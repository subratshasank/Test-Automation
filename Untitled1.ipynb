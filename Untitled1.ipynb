{
 "cells": [
  {
   "cell_type": "code",
   "execution_count": 11,
   "metadata": {},
   "outputs": [
    {
     "data": {
      "text/plain": [
       "0"
      ]
     },
     "execution_count": 11,
     "metadata": {},
     "output_type": "execute_result"
    }
   ],
   "source": [
    "import pandas as pd\n",
    "import numpy as np\n",
    "from docx import Document \n",
    "from pandas import ExcelWriter\n",
    "import gc\n",
    "filename = 'C:\\\\Users\\\\j070\\\\Desktop\\\\ReqDoc.docx'  \n",
    "XLFile = 'C:\\\\Users\\\\j070\\\\Desktop\\\\OutDoc_Final.xlsx'\n",
    "doc = Document(filename)\n",
    "i = 0\n",
    "p = 0\n",
    "idx = 0\n",
    "done = False\n",
    "df = pd.DataFrame({'Test_Cases': [],'Req_ID': [], 'Senario': [] })\n",
    "Match =  {'Source'}\n",
    "Catch =  {'Req ID'}\n",
    "Catch2 = {'Heading 1'}\n",
    "List_data = []\n",
    "List_data2 = []\n",
    "List_data_text = []\n",
    "filter = 'Functional'\n",
    "item = ''\n",
    "item2 = ''\n",
    "while i < len(doc.paragraphs):\n",
    "    para = doc.paragraphs[i].text\n",
    "    if len(para)>1:\n",
    "        word  = doc.paragraphs[i].runs[0].text\n",
    "        word2 = doc.paragraphs[i].style.name\n",
    "        if word2 in Catch2:\n",
    "            data2 = doc.paragraphs[i].runs[0].text\n",
    "            if data2 not in ('Revision History','Project Overview'):\n",
    "                item2= data2\n",
    "        if word in Catch:\n",
    "            data = doc.paragraphs[i].runs[1].text\n",
    "            item = (data[1:])\n",
    "        if word in Match:\n",
    "            p= i\n",
    "            while doc.paragraphs[p].style.name not in (\"Heading 2\",\"Heading 1\"):\n",
    "                if p == (len (doc.paragraphs)-1):\n",
    "                    done = True\n",
    "                    break  \n",
    "                if done:\n",
    "                    break\n",
    "                p = p+1\n",
    "                if len(doc.paragraphs[p].text.strip()) > 1:\n",
    "                    if doc.paragraphs[p].style.name not in (\"Heading 2\"):\n",
    "                        #print (item)\n",
    "                        data_text = doc.paragraphs[p].text\n",
    "                        List_data.append(item)\n",
    "                        List_data2.append(item2)\n",
    "                        List_data_text.append(data_text)\n",
    "    i += 1\n",
    "df = pd.DataFrame(\n",
    "    {\n",
    "        \"Req_ID\"    : List_data2,\n",
    "        \"Scenario\"  : List_data,\n",
    "        \"TestCases\" : List_data_text\n",
    "            }\n",
    "    )\n",
    "\n",
    "df = df[df.Scenario.str.contains(\"Functional\")]\n",
    "writer = ExcelWriter(XLFile)\n",
    "df.to_excel(writer,'Sheet1')\n",
    "writer.save()\n",
    "gc.collect()"
   ]
  },
  {
   "cell_type": "code",
   "execution_count": null,
   "metadata": {},
   "outputs": [],
   "source": []
  }
 ],
 "metadata": {
  "kernelspec": {
   "display_name": "Python 3",
   "language": "python",
   "name": "python3"
  },
  "language_info": {
   "codemirror_mode": {
    "name": "ipython",
    "version": 3
   },
   "file_extension": ".py",
   "mimetype": "text/x-python",
   "name": "python",
   "nbconvert_exporter": "python",
   "pygments_lexer": "ipython3",
   "version": "3.7.0"
  }
 },
 "nbformat": 4,
 "nbformat_minor": 2
}
